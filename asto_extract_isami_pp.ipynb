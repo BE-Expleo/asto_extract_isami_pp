{
 "cells": [
  {
   "cell_type": "code",
   "execution_count": 1,
   "id": "0287e466",
   "metadata": {
    "pycharm": {
     "name": "#%%\n"
    }
   },
   "outputs": [],
   "source": [
    "import os\n",
    "from pathlib import Path\n",
    "import warnings\n",
    "import shutil\n",
    "\n",
    "import pandas as pd\n",
    "import numpy as np"
   ]
  },
  {
   "cell_type": "code",
   "execution_count": 2,
   "id": "8dd1d0e0",
   "metadata": {
    "pycharm": {
     "name": "#%%\n"
    }
   },
   "outputs": [],
   "source": [
    "warnings.simplefilter(action='ignore', category=FutureWarning)"
   ]
  },
  {
   "cell_type": "code",
   "execution_count": 3,
   "id": "ee82bf3c",
   "metadata": {
    "pycharm": {
     "name": "#%%\n"
    }
   },
   "outputs": [],
   "source": [
    "def get_lc(lc_file):\n",
    "    df_ulc = pd.read_excel(lc_file, sheet_name='ULC List', usecols=['LoadCase label', 'LoadCase ID'])\n",
    "    df_ulc.rename(columns={\"LoadCase label\": \"LC\", \"LoadCase ID\": \"LC_ID\"}, inplace=True)\n",
    "    nb_ulc = len(df_ulc)\n",
    "\n",
    "    df_clc = pd.read_excel(lc_file, sheet_name='CLC List', usecols=['Combined LoadCase label', 'LC_no'])\n",
    "    df_clc.rename(columns={\"Combined LoadCase label\": \"LC\", \"LC_no\": \"LC_ID\"}, inplace=True)\n",
    "    list_clc_id = df_clc.LC_ID.values.tolist()\n",
    "\n",
    "    df_lc = pd.concat([df_ulc, df_clc], axis=0, ignore_index=True)\n",
    "    list_lc = df_lc.LC.values.tolist()\n",
    "\n",
    "    return nb_ulc, list_clc_id, df_lc, list_lc"
   ]
  },
  {
   "cell_type": "code",
   "execution_count": 4,
   "id": "d8b0d721",
   "metadata": {
    "pycharm": {
     "name": "#%%\n"
    }
   },
   "outputs": [],
   "source": [
    "def list_criteria(df_result):\n",
    "    criteria_list = list(df_result.columns)\n",
    "    criteria_list.remove('FE')\n",
    "    criteria_list.remove('LC')   \n",
    "    return criteria_list"
   ]
  },
  {
   "cell_type": "code",
   "execution_count": 5,
   "id": "a4343cf0",
   "metadata": {
    "pycharm": {
     "name": "#%%\n"
    }
   },
   "outputs": [],
   "source": [
    "def format_synthesis_right_area(df_result_row, criteria_list_to_keep):\n",
    "    # Transpose\n",
    "    df_result = df_result_row.T\n",
    "\n",
    "    # Move first row to head\n",
    "    df_result.columns = df_result.iloc[0]\n",
    "    df_result = df_result.iloc[1: , :]  \n",
    "\n",
    "    # Change column index and rename in criteria\n",
    "    df_result.reset_index(inplace=True)\n",
    "    df_result.columns.name = None\n",
    "    df_result.rename(columns={'index': 'Criteria'}, inplace=True)\n",
    "\n",
    "    # Insert column FE\n",
    "    df_result.insert(0, 'FE', '')\n",
    "    df_result['FE'] = df_result.iloc[:, [2]].shift(periods=1)\n",
    "\n",
    "    df_result['FE'] = np.where(df_result.Criteria != criteria_list_to_keep[0],'', df_result['FE'])\n",
    "    \n",
    "    # Remove lines FE\n",
    "    df_result = df_result[df_result.Criteria != 'FE']\n",
    "    df_result.reset_index(drop=True, inplace=True)\n",
    "\n",
    "    # Insert column FEM element\n",
    "    df_result.insert(0, 'FEM element', '')\n",
    "    df_result['FEM element'] = df_result.iloc[:, [1]]\n",
    "\n",
    "    # Insert element id's in rows for each criteria\n",
    "    row_numbers = df_result[df_result['Criteria'] == criteria_list_to_keep[0]].index\n",
    "    for i in row_numbers:\n",
    "        # for j in range(i + 1, i + len(criteria_list)):\n",
    "        for j in range(i + 1, i + len(criteria_list_to_keep)):\n",
    "            df_result.loc[j, 'FEM element'] = df_result.loc[j-1, 'FEM element']\n",
    "\n",
    "    # Insert column Component\n",
    "    df_result.insert(1, 'Component', '')\n",
    "    df_result['Component'] = df_result['Criteria']\n",
    "    return df_result"
   ]
  },
  {
   "cell_type": "code",
   "execution_count": 6,
   "id": "96dcf559",
   "metadata": {
    "pycharm": {
     "name": "#%%\n"
    }
   },
   "outputs": [],
   "source": [
    "def create_synthesis_right_area(df_result, df_lc, criteria_list_to_keep):\n",
    "    # Clean column Fe\n",
    "    df_result['FE']=df_result['FE'].str[5:]\n",
    "    \n",
    "    # List elements\n",
    "    elm_list = df_result['FE'].unique()\n",
    "\n",
    "    # Sort by LC\n",
    "    df_result.sort_values(by=['LC'], inplace=True)\n",
    "\n",
    "    # Merge df_result and df_lc\n",
    "    df_result = pd.merge(df_lc, df_result)\n",
    "\n",
    "    # Change LC and LC_ID column order\n",
    "    columns_name = df_result.columns.tolist()\n",
    "    columns_name[0], columns_name[1] = columns_name[1], columns_name[0]\n",
    "    df_result = df_result.reindex(columns=columns_name)\n",
    "\n",
    "    # Create a list of dataframes with results by elm\n",
    "    df_result_elm_list = []\n",
    "\n",
    "    for elm in elm_list:\n",
    "        df_result_elm = df_result.query('FE == @elm').reset_index(drop=True)\n",
    "        if elm!= elm_list[0]:\n",
    "            del df_result_elm[\"LC\"]\n",
    "            del df_result_elm[\"LC_ID\"]\n",
    "        df_result_elm_list.append(df_result_elm)\n",
    "\n",
    "    # Concat in one df\n",
    "    df_result_row = pd.concat(df_result_elm_list, axis=1)\n",
    "\n",
    "    # Format synthesis right area\n",
    "    df_result = format_synthesis_right_area(df_result_row, criteria_list_to_keep)\n",
    "    \n",
    "    return df_result\n"
   ]
  },
  {
   "cell_type": "code",
   "execution_count": 7,
   "id": "7f6d79e1",
   "metadata": {
    "pycharm": {
     "name": "#%%\n"
    }
   },
   "outputs": [],
   "source": [
    "def add_synthesis_left_area(df_result, list_clc_id):\n",
    "    df_result_clc_only_id = df_result[list_clc_id].copy()\n",
    "    df_result_clc_only_id = df_result_clc_only_id.iloc[1:, :]\n",
    "    df_result_clc_only_id = df_result_clc_only_id.astype(float)\n",
    "\n",
    "    df_result_clc_only_lc_name = df_result[list_clc_id].copy()\n",
    "    new_header = df_result_clc_only_lc_name.iloc[0]\n",
    "    df_result_clc_only_lc_name = df_result_clc_only_lc_name[1:]\n",
    "    df_result_clc_only_lc_name.columns = new_header\n",
    "    df_result_clc_only_lc_name = df_result_clc_only_lc_name.astype(float)\n",
    "\n",
    "    df_max_value = df_result_clc_only_id.max(axis=1)\n",
    "    df_idmax = df_result_clc_only_id.idxmax(axis=1)\n",
    "    df_lcmax = df_result_clc_only_lc_name.idxmax(axis=1)\n",
    "\n",
    "    df_min_value = df_result_clc_only_id.min(axis=1)\n",
    "    df_idmin = df_result_clc_only_id.idxmin(axis=1)\n",
    "    df_lcmin = df_result_clc_only_lc_name.idxmin(axis=1)\n",
    "\n",
    "    # Insert column Max, Max_LC_Name, Max_LC_ID\n",
    "    df_result.insert(2, 'Max', df_max_value)\n",
    "    df_result.insert(3, 'Max_LC_Name', df_lcmax)\n",
    "    df_result.insert(4, 'Max_LC_ID', df_idmax)\n",
    "    df_result.insert(5, 'Min', df_min_value)\n",
    "    df_result.insert(6, 'Min_LC_Name', df_lcmin)\n",
    "    df_result.insert(7, 'Min_LC_ID', df_idmin)\n",
    "    return df_result"
   ]
  },
  {
   "cell_type": "code",
   "execution_count": 8,
   "id": "82279f5a",
   "metadata": {
    "pycharm": {
     "name": "#%%\n"
    }
   },
   "outputs": [],
   "source": [
    "def create_synthesis(csv_result_file, nb_ulc, list_clc_id, df_lc, list_lc, criteria_list_to_keep):\n",
    "    df_result = pd.read_csv(csv_result_file, usecols=lambda x: x != 'TableValues', sep=';', skiprows=range(0, 11))\n",
    "\n",
    "    # List criteria\n",
    "    criteria_list = list_criteria(df_result)\n",
    "    print(f\"extracted_criteria_list {criteria_list}\")\n",
    "    print(f\"criteria_list_to_keep {criteria_list_to_keep}\")\n",
    "    criteria_list_to_del = [x for x in criteria_list if x not in criteria_list_to_keep]\n",
    "    print(f\"criteria_list_to_del {criteria_list_to_del}\")\n",
    "    \n",
    "    for criteria in criteria_list_to_del:\n",
    "        df_result.drop(criteria, axis=1, inplace=True)\n",
    "\n",
    "    # Create right area of synthesis with LC in columns and criteria in rows for each element\n",
    "    df_result = create_synthesis_right_area(df_result, df_lc, criteria_list_to_keep)\n",
    "\n",
    "    # Add left area of synthesis with max and min values\n",
    "    df_result = add_synthesis_left_area(df_result, list_clc_id)\n",
    "\n",
    "    # Formatting\n",
    "    # Formatting 2 first rows\n",
    "    data_top_lc = df_result.columns.values.tolist()[:10] + list_lc\n",
    "    data_top_lc_id = df_result.columns.values.tolist()\n",
    "    for i in range(10):\n",
    "        data_top_lc_id[i] = \"\"\n",
    "    df_result.loc[0] = data_top_lc\n",
    "    df_result = pd.DataFrame([data_top_lc_id], columns=df_result.columns).append(df_result)\n",
    "    df_result = df_result.sort_index().reset_index(drop=True)\n",
    "\n",
    "    # Insert columns\n",
    "    df_result.insert(loc = 0, column = 'empty0', value = ['' for i in range(df_result.shape[0])])\n",
    "    df_result.insert(loc = 9, column ='empty9', value = ['' for i in range(df_result.shape[0])])\n",
    "    df_result.insert(loc = 10, column = 'empty10', value = ['' for i in range(df_result.shape[0])])\n",
    "    df_result.insert(loc = 11 + 2 + nb_ulc, column = 'emptyCLC', value = ['' for i in range(df_result.shape[0])])\n",
    "\n",
    "    # Write xlsx file\n",
    "    synthesis_file = f\"{csv_result_file[:len(csv_result_file) - 4]}_synthesis.xlsx\"\n",
    "    with pd.ExcelWriter(synthesis_file, engine='xlsxwriter') as writer:\n",
    "        df_result.to_excel(writer, sheet_name=\"Results\", na_rep='', index=False, startrow=0, header=False)\n",
    "\n",
    "    return df_result, criteria_list, synthesis_file"
   ]
  },
  {
   "cell_type": "code",
   "execution_count": 9,
   "id": "caebd458",
   "metadata": {
    "pycharm": {
     "name": "#%%\n"
    }
   },
   "outputs": [],
   "source": [
    "def create_transpose(df_result, nb_ulc, csv_result_file):\n",
    "    # Create dataframe for transpose\n",
    "    df_result_clc = df_result.copy()\n",
    "\n",
    "    # Remove left columns and ULC\n",
    "    df_result_clc = df_result_clc.drop(df_result_clc.iloc[:, :11], axis = 1)\n",
    "    df_result_clc.drop(df_result_clc.iloc[:, 2:nb_ulc + 3], axis = 1, inplace=True)\n",
    "\n",
    "    # Transpose\n",
    "    df_result_clc  = df_result_clc.T\n",
    "\n",
    "    # Fill first column with blanks\n",
    "    df_result_clc[0] = ''\n",
    "\n",
    "    # Write xlsx file\n",
    "    transpose_file = f\"{csv_result_file[:len(csv_result_file) - 4]}_transpose.xlsx\"\n",
    "    with pd.ExcelWriter(transpose_file, engine='xlsxwriter') as writer:\n",
    "        df_result_clc.to_excel(writer, sheet_name=\"Results\", na_rep='', index=False, startrow=0, header=False)\n",
    "    \n",
    "    return transpose_file"
   ]
  },
  {
   "cell_type": "code",
   "execution_count": 10,
   "id": "9388acfc",
   "metadata": {
    "pycharm": {
     "name": "#%%\n"
    }
   },
   "outputs": [],
   "source": [
    "def define_first_lines_hwascii(df_result_hwascii_crit_first_line):\n",
    "    # Convert new line of df_result_hwascii_crit_first_line to list then to string\n",
    "    result_type = df_result_hwascii_crit_first_line.values.flatten().tolist()\n",
    "    result_type.pop(0)\n",
    "    result_type = ','.join(result_type)\n",
    "    \n",
    "    cwd = os.getcwd()\n",
    "    subcase = '$SUBCASE = 1 ' + cwd\n",
    "    result_type = '$RESULT_TYPE = ' + result_type\n",
    "    first_lines = ['ALTAIR ASCII FILE', '$BINDING = ELEMENT', '$COLUMN_INFO = ENTITY_ID', subcase, result_type,\n",
    "                 '$DELIMITER = ,']\n",
    "    first_lines = '\\n'.join(first_lines)\n",
    "    return first_lines"
   ]
  },
  {
   "cell_type": "code",
   "execution_count": 11,
   "id": "f662ded9",
   "metadata": {
    "pycharm": {
     "name": "#%%\n"
    }
   },
   "outputs": [],
   "source": [
    "def prepend_file(file, first_lines):\n",
    "        with open(file, 'r+') as f:\n",
    "            content = f.read()\n",
    "            f.seek(0)\n",
    "            f.write(first_lines + '\\n' + content)"
   ]
  },
  {
   "cell_type": "code",
   "execution_count": 12,
   "id": "b6248338",
   "metadata": {
    "pycharm": {
     "name": "#%%\n"
    }
   },
   "outputs": [],
   "source": [
    "def create_hwascii(criteria, df_result, csv_result_file, hwascii_file_list):\n",
    "    # Create dataframe for hwascii\n",
    "    df_result_hwascii = df_result.copy()\n",
    "\n",
    "    # Create df_result_hwascii_crit\n",
    "    df_result_hwascii_crit = df_result_hwascii.copy()\n",
    "    df_result_hwascii_crit=df_result_hwascii_crit.query(f\"Criteria == '{criteria}'\")\n",
    "\n",
    "    # Create a dataframe with LC name row\n",
    "    df_result_hwascii_lc = df_result_hwascii.iloc[1:2]\n",
    "\n",
    "    # Concat dataframes df_result_hwascii_crit and df_result_hwascii_lc\n",
    "    df_result_hwascii_crit = pd.concat([df_result_hwascii_lc, df_result_hwascii_crit], join='inner')\n",
    "\n",
    "    # Remove the unwanted columns\n",
    "    df_result_hwascii_crit.drop(['empty0', 'Component', 'empty9', 'empty10', 'FE', 'Criteria', 'emptyCLC'], axis = 1,\n",
    "                                 inplace=True)\n",
    "\n",
    "    # Get first line of df_result_hwascii_crit\n",
    "    df_result_hwascii_crit_first_line = df_result_hwascii_crit.loc[1, :]\n",
    "    \n",
    "    # Remove first line of df_result_hwascii_crit\n",
    "    df_result_hwascii_crit = df_result_hwascii_crit.iloc[1: , :]\n",
    "\n",
    "    # Append hwascii_file_list\n",
    "    hwascii_file = f\"{csv_result_file[:len(csv_result_file) - 4]}_{criteria}.hwascii\"\n",
    "    hwascii_file_list.append(hwascii_file)\n",
    "    \n",
    "    # Write hwascii file\n",
    "    df_result_hwascii_crit.to_csv(hwascii_file, header=False, index=False)\n",
    "\n",
    "    # Define new first lines of hwascii_file\n",
    "    first_lines = define_first_lines_hwascii(df_result_hwascii_crit_first_line)\n",
    "    \n",
    "    # Add new first lines to hwascii_file\n",
    "    prepend_file(hwascii_file, first_lines)\n",
    "    \n",
    "    return hwascii_file_list"
   ]
  },
  {
   "cell_type": "code",
   "execution_count": 13,
   "id": "fb32c14f",
   "metadata": {
    "pycharm": {
     "name": "#%%\n"
    }
   },
   "outputs": [],
   "source": [
    "def create_directory(folder):\n",
    "    try:\n",
    "        Path(Path(Path(), f'{folder}')).mkdir(parents=False, exist_ok=False)\n",
    "        print(f\"{folder} directory has been created...\")\n",
    "    except FileExistsError:\n",
    "        print(f\"Directory {folder} already exists\")\n",
    "        pass"
   ]
  },
  {
   "cell_type": "code",
   "execution_count": 14,
   "id": "9fc8f0e3",
   "metadata": {
    "pycharm": {
     "name": "#%%\n"
    }
   },
   "outputs": [],
   "source": [
    "def move_files(file_name, folder):\n",
    "    shutil.move(file_name, Path.joinpath(Path(), folder, file_name))"
   ]
  },
  {
   "cell_type": "code",
   "execution_count": 15,
   "id": "811de126",
   "metadata": {
    "pycharm": {
     "name": "#%%\n"
    }
   },
   "outputs": [],
   "source": [
    "def postprocess():\n",
    "    # Define input\n",
    "    lc_file = 'CWB_Internal_Frames_ULC_CLC_test2LC.xlsx'\n",
    "    csv_result_file = '1_test_ACS_rod_ROD.csv'\n",
    "\n",
    "    # Get load cases\n",
    "    nb_ulc, list_clc_id, df_lc, list_lc = get_lc(lc_file)\n",
    "\n",
    "    # Define criteria_list_to_keep\n",
    "    criteria_list_to_keep = ['N', 'Stress']\n",
    "    \n",
    "    # Create synthesis\n",
    "    df_result, criteria_list, synthesis_file = create_synthesis(csv_result_file, nb_ulc, list_clc_id, df_lc, list_lc, criteria_list_to_keep)\n",
    "\n",
    "    # Create transpose\n",
    "    transpose_file = create_transpose(df_result, nb_ulc, csv_result_file)\n",
    "\n",
    "    # Create HWascii files\n",
    "    hwascii_file_list = []\n",
    "    for criteria in criteria_list_to_keep:\n",
    "        hwascii_file_list = create_hwascii(criteria, df_result, csv_result_file, hwascii_file_list)\n",
    "    \n",
    "    # Create folders\n",
    "    for folder in ['SYNTHESES', 'TRANSPOSES', 'HWASCIIS']:\n",
    "        create_directory(folder)\n",
    "    \n",
    "    # Move files\n",
    "    move_files(synthesis_file, 'SYNTHESES')\n",
    "    move_files(transpose_file, 'TRANSPOSES')\n",
    "    for file in hwascii_file_list:\n",
    "        move_files(file, 'HWASCIIS')\n",
    "    \n",
    "    print(\"end of post-processing\")"
   ]
  },
  {
   "cell_type": "code",
   "execution_count": 16,
   "id": "192d4487",
   "metadata": {
    "pycharm": {
     "name": "#%%\n"
    }
   },
   "outputs": [
    {
     "name": "stdout",
     "output_type": "stream",
     "text": [
      "extracted_criteria_list ['NodeA_ID', 'NodeB_ID', 'N', 'Stress', 'Strain', 'dx_A', 'dy_A', 'dz_A', 'dx_B', 'dy_B', 'dz_B']\n",
      "criteria_list_to_keep ['N', 'Stress']\n",
      "criteria_list_to_del ['NodeA_ID', 'NodeB_ID', 'Strain', 'dx_A', 'dy_A', 'dz_A', 'dx_B', 'dy_B', 'dz_B']\n",
      "Directory SYNTHESES already exists\n",
      "Directory TRANSPOSES already exists\n",
      "Directory HWASCIIS already exists\n",
      "end of post-processing\n"
     ]
    }
   ],
   "source": [
    "def main():\n",
    "    \"\"\"\n",
    "    Main instructions to run\n",
    "    Call function: postprocess\n",
    "    \"\"\"\n",
    "    postprocess()\n",
    "\n",
    "\n",
    "if __name__ == '__main__':\n",
    "    main()"
   ]
  }
 ],
 "metadata": {
  "kernelspec": {
   "display_name": "Python 3 (ipykernel)",
   "language": "python",
   "name": "python3"
  },
  "language_info": {
   "codemirror_mode": {
    "name": "ipython",
    "version": 3
   },
   "file_extension": ".py",
   "mimetype": "text/x-python",
   "name": "python",
   "nbconvert_exporter": "python",
   "pygments_lexer": "ipython3",
   "version": "3.9.7"
  }
 },
 "nbformat": 4,
 "nbformat_minor": 5
}
